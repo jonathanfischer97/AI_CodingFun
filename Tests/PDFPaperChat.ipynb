{
 "cells": [
  {
   "cell_type": "code",
   "execution_count": 1,
   "metadata": {},
   "outputs": [],
   "source": [
    "import os\n",
    "import openai\n",
    "# import deeplake \n",
    "from dotenv import load_dotenv\n",
    "\n",
    "from langchain.document_loaders import TextLoader\n",
    "from langchain.embeddings.openai import OpenAIEmbeddings\n",
    "from langchain.vectorstores import DeepLake\n",
    "from langchain.text_splitter import CharacterTextSplitter\n",
    "from langchain.document_loaders import PyPDFLoader\n",
    "\n",
    "from langchain.vectorstores import Chroma\n",
    "from langchain.chains import RetrievalQA\n",
    "from langchain.chat_models import ChatOpenAI\n",
    "from langchain.callbacks.streaming_stdout import StreamingStdOutCallbackHandler"
   ]
  },
  {
   "cell_type": "code",
   "execution_count": 2,
   "metadata": {},
   "outputs": [],
   "source": [
    "load_dotenv(os.getcwd()+'/keys.env')\n",
    "activeloop_token = os.getenv('ACTIVELOOP_TOKEN')\n",
    "deeplake_username = os.getenv('DEEPLAKE_USERNAME')\n",
    "openai.api_key = os.environ.get('OPENAI_API_KEY')\n",
    "\n",
    "pdfdirname = os.getcwd()+'/../LangChainQueryTexts/ThesisPapers'\n",
    "pdfdirname = os.path.abspath(pdfdirname)"
   ]
  },
  {
   "cell_type": "code",
   "execution_count": 3,
   "metadata": {},
   "outputs": [],
   "source": [
    "def load_docs(root_dir):\n",
    "    docs = []\n",
    "    for dirpath, dirnames, filenames in os.walk(root_dir):\n",
    "        for file in filenames:\n",
    "            print(file)\n",
    "            try:\n",
    "                loader = PyPDFLoader(os.path.join(\n",
    "                    dirpath, file))\n",
    "                docs.extend(loader.load_and_split())\n",
    "            except Exception as e:\n",
    "                print(e)\n",
    "                pass\n",
    "    return docs\n",
    "\n",
    "\n",
    "def split_docs(docs):\n",
    "    text_splitter = CharacterTextSplitter(chunk_size=1000, chunk_overlap=0)\n",
    "    return text_splitter.split_documents(docs)\n",
    "\n",
    "\n",
    "def main(root_dir, deep_lake_path):\n",
    "    docs = load_docs(root_dir)\n",
    "    texts = split_docs(docs)\n",
    "    embeddings = OpenAIEmbeddings()\n",
    "    \n",
    "    db = DeepLake(dataset_path=deep_lake_path, embedding_function=embeddings)\n",
    "    \n",
    "    db.add_documents(texts)"
   ]
  },
  {
   "attachments": {},
   "cell_type": "markdown",
   "metadata": {},
   "source": [
    "## Load, split, and embed text"
   ]
  },
  {
   "cell_type": "code",
   "execution_count": 4,
   "metadata": {},
   "outputs": [
    {
     "name": "stdout",
     "output_type": "stream",
     "text": [
      "MyDraft1.pdf\n",
      "SelfAssemblyOscillations.pdf\n",
      "Osman.pdf\n",
      "Sensitivity_analysis_of_autonomous_oscillations_ap.pdf\n",
      "DesignPrinciplesOscillators.pdf\n",
      "TunableOscillator.pdf\n",
      "GeneticAlgorithm.pdf\n"
     ]
    }
   ],
   "source": [
    "docs = load_docs(pdfdirname)\n",
    "texts = split_docs(docs)"
   ]
  },
  {
   "cell_type": "code",
   "execution_count": 5,
   "metadata": {},
   "outputs": [
    {
     "data": {
      "text/plain": [
       "OpenAIEmbeddings(client=<class 'openai.api_resources.embedding.Embedding'>, model='text-embedding-ada-002', deployment='text-embedding-ada-002', openai_api_version='2022-12-01', openai_api_base=None, openai_api_type=None, embedding_ctx_length=8191, openai_api_key=None, openai_organization=None, allowed_special=set(), disallowed_special='all', chunk_size=1000, max_retries=6, request_timeout=None)"
      ]
     },
     "execution_count": 5,
     "metadata": {},
     "output_type": "execute_result"
    }
   ],
   "source": [
    "embeddings = OpenAIEmbeddings()\n",
    "embeddings"
   ]
  },
  {
   "attachments": {},
   "cell_type": "markdown",
   "metadata": {},
   "source": [
    "## Create Chroma vectorstore for pdfs"
   ]
  },
  {
   "cell_type": "code",
   "execution_count": 6,
   "metadata": {},
   "outputs": [
    {
     "name": "stderr",
     "output_type": "stream",
     "text": [
      "Using embedded DuckDB without persistence: data will be transient\n"
     ]
    }
   ],
   "source": [
    "doc_retriever = Chroma.from_documents(texts, embeddings).as_retriever() #initialize vectorstore into retriever"
   ]
  },
  {
   "cell_type": "code",
   "execution_count": null,
   "metadata": {},
   "outputs": [],
   "source": [
    "from langchain.retrievers import ContextualCompressionRetriever\n",
    "from langchain.retrievers.document_compressors import LLMChainExtractor\n",
    "\n",
    "compressor = LLMChainExtractor()"
   ]
  },
  {
   "attachments": {},
   "cell_type": "markdown",
   "metadata": {},
   "source": [
    "## Load chat model"
   ]
  },
  {
   "cell_type": "code",
   "execution_count": 9,
   "metadata": {},
   "outputs": [],
   "source": [
    "chat = ChatOpenAI(model_name=\"gpt-3.5-turbo\", streaming=True, callbacks=[StreamingStdOutCallbackHandler()])"
   ]
  },
  {
   "cell_type": "code",
   "execution_count": 20,
   "metadata": {},
   "outputs": [],
   "source": [
    "qa = RetrievalQA.from_chain_type(llm=chat, chain_type=\"map_reduce\", retriever=doc_retriever, return_source_documents=True, verbose=True)"
   ]
  },
  {
   "cell_type": "code",
   "execution_count": 21,
   "metadata": {},
   "outputs": [
    {
     "name": "stdout",
     "output_type": "stream",
     "text": [
      "\n",
      "\n",
      "\u001b[1m> Entering new RetrievalQA chain...\u001b[0m\n",
      "Membrane localization can generate nonlinear feedback by selectively accelerating reactions and assembly through enhancing the effective binding affinity of reactants on the membrane. This effect is explained by both a reduced diffusive search space in 2D vs 3D, as well as increased effective concentration with the same reactant copy numbers in the lower dimensional space. The effective binding enhancement has been mathematically modeled in recent work as a function of the volume to surface area ratio (V/A) of the system, which scales the forward kinetics of biomolecular reactions. According to their analysis using a physiological realistic range of cell V/A, bimolecular kinetics can be enhanced by multiple orders of magnitude compared to their counterparts in 3D diffusive space. Membrane localization is not a static binding enhancement, but rather is regulated by the activity of lipid-modifying enzymes, allowing for spatiotemporal control of specific membrane-protein affinities.Through simulation, weadditionally find that membrane localization alters the timescales of protein-protein assembly, but that the result is not dominated by changes in protein diffusion between solution and the membrane. Rather, for physiologic binding strengths, the rate-limiting step is the speed of binding to the membrane surface from solution.Membrane localization can affect biochemical kinetics through the volume to surface area ratio (V/A) of the cell. The membrane localization of species depends on the ratio of PIP2 to PIP, which is controlled by V/A. The rates of some species are the sum of both the 3D-2D reaction kinetics (kon * X * Y) as well as the same reaction with 2D-2D kinetics (Df * kon * X * Y), where the dimensional scaling factor Df = V/Ah. This factor weights the feedback strength for both the positive and negative feedback loops, where a higher Df translates to a larger rate enhancement for membrane-localized reactions.Membrane localization can isolate the role of membrane localization from other factors and provide a novel and valuable metric for interpreting how important membrane localization can be given the concentrations and binding properties of component proteins. It can be used as a quantitative guide for estimating how membrane heterogeneity, competition for binding, and mutations would influence the parameters of the model (volume, surface area, binding affinities and concentrations) and thus the proteins' subsequent response to localization. The theory represents a well-defined starting point from which to probe more complex systems and is a reference point for studying the time-dependence of assembly through computer simulation. Membrane localization can trigger protein assembly by pulling proteins to the membrane surface through protein or lipid binding. Proteins localized at the surface will also bind lipids in a 2D search.Membrane localization can generate nonlinear feedback by selectively accelerating reactions and assembly through enhancing the effective binding affinity of reactants on the membrane. The rates of some species are the sum of both the 3D-2D reaction kinetics as well as the same reaction with 2D-2D kinetics, where the dimensional scaling factor Df = V/Ah. This factor weights the feedback strength for both the positive and negative feedback loops, where a higher Df translates to a larger rate enhancement for membrane-localized reactions. Membrane localization can isolate the role of membrane localization from other factors and provide a novel and valuable metric for interpreting how important membrane localization can be given the concentrations and binding properties of component proteins.\n",
      "\u001b[1m> Finished chain.\u001b[0m\n"
     ]
    }
   ],
   "source": [
    "query = \"How does membrane localization effect biochemical kinetics?\"\n",
    "result = qa({\"query\": query})\n",
    "# qa.run(query)"
   ]
  },
  {
   "cell_type": "code",
   "execution_count": 19,
   "metadata": {},
   "outputs": [
    {
     "data": {
      "text/plain": [
       "{'query': 'How does membrane localization effect biochemical kinetics?',\n",
       " 'result': 'Membrane localization can enhance biochemical kinetics by selectively accelerating reactions and assembly through a reduced diffusive search space in 2D vs 3D, as well as increased effective concentration with the same reactant copy numbers in the lower dimensional space. This enhancement has been mathematically modeled as a function of the volume to surface area ratio (V/A) of the system, which scales the forward kinetics of biomolecular reactions. Membrane localization is not a static binding enhancement, but rather is regulated by the activity of lipid-modifying enzymes, allowing cells to have spatiotemporal control of specific membrane-protein affinities to enable encoding of complex molecular logic and spatiotemporal memory in the lipid membrane.',\n",
       " 'source_documents': [Document(page_content='2006), there exists the potential for nonlinear feedback mechanisms between enzymatic activity and PIP metabolism(Haucke, 2005) that could drive oscillations.   Membrane localization like this can generate nonlinear feedback because it selectively accelerates reactions and assembly by enhancing the effective binding affinity of reactants on the membrane. This effect is explained by both a reduced diffusive search space in 2D vs 3D, as well as increased effective concentration with the same reactant copy numbers in the lower dimensional space. The effective binding enhancement has been mathematically modeled in recent work by Osman et al as a function of the volume to surface area ratio (V/A) of the system, which scales the forward kinetics of biomolecular reactions(Yogurtcu & Johnson, 2018). According to their analysis using a physiological realistic range of cell V/A, bimolecular kinetics can be enhanced by multiple orders of magnitude compared to their counterparts in 3D diffusive space. Membrane localization is not a static binding enhancement, but rather is regulated by the activity of the previously mentioned lipid-modifying enzymes. Through dynamically tuning the lipid composition, cells have spatiotemporal control of specific membrane-protein affinities to allow encoding of complex molecular logic and spatiotemporal memory in the lipid membrane. \\n Given the potential of a global variable like the membrane lipid composition to coordinate reaction dynamics, which is tunable by geometric rather than biochemical properties, we sought to build a minimal general model for a biochemical oscillator driven by membrane localization. Our inspiration and general reaction scheme was drawn from the PIP-mediated process of clathrin-mediated endocytosis (CME), where dynamically tuned membrane localization of endocytic machinery is necessary to control the expensive process of clathrin-coat assembly. In CME, the phosphorylated lipid PIP2 is effectively the “on” switch by which the cell signals rapid recruitment of the endocytic machinery for cargo uptake. This recruitment signal is conveyed via the adaptor protein AP2, which has multiple PIP2 specific lipid binding interfaces and protein binding interfaces to indirectly localize CME proteins to the membrane. Like other biological switches, a positive feedback loop exists to discretize concentrations into binary logic: the kinase PIP5K accelerates its own activity through increasing the amount of PIP2 anchors, and the', metadata={'source': '/Users/jonathanfischer/Desktop/AI_CodingFun/LangChainQueryTexts/ThesisPapers/MyDraft1.pdf', 'page': 1}),\n",
       "  Document(page_content='Weapply thetheory here tocharacterizing, within aquantitative framework, therole of\\nmembrane localization forenhancing 55binding interactions involving 33distinct protein\\npair interaction sets(S1Table). Through simulation, wealso move beyond themodel illus-\\ntrated inFig1ofonly pairs ofsoluble binding partners toshow how complexation involving\\nnon-membrane binding scaffold proteins such asclathrin, orhow formation ofhigher-order\\noligomers, which isfunctionally important fordriving membrane remodeling [11, 17,18], can\\nalso beregulated bymembrane localization (13additional interaction setsinS2Table). Our\\ntheory only applies tothepair interactions illustrated inFig1.Weinclude 22proteins involved\\ninCME inboth human and yeast cells, aswell as15proteins involved inlipid regulation, vesi-\\ncleformation onendosomes, budding, and morphogenesis inyeast cells (Table 1).Wecol-\\nlected concentration and cellular geometry data based oninvivo values tobetter connect to\\nphysiologic regimes (S3Table and S4Table). Although ourtheory represents anapproximate\\nsolution tothefullmodel shown inFig1,weshow through extensive simulations using both\\nsystems ofordinary differential equations and single-particle reaction-diffusion, [19, 20]that it\\nishighly accurate. Through simulation, weadditionally find that membrane localization alters\\nthetimescales ofprotein-protein assembly, butthat theresult isnotdominated bychanges in\\nprotein diffusion between solution and themembrane. Rather, forphysiologic binding\\nstrengths, therate-limiting step isthespeed ofbinding tothemembrane surface from solution.\\nFinally, apractical application ofoursimple formula isthat itcanbeused toexperimentally fit\\nprotein-protein binding affinities onsurfaces (Ka2D),which arerarely measured [21, 22]. The\\nadvantage oftheformula isthat itapplies toinvitro experiments where apair ofproteins can\\nreversibly bind tothemembrane, thus avoiding theneed torestrict proteins tothesurface.\\nResults\\nModel and theory\\nInourprimary model, weconsider twoproteins P1and P2,that bind insolution with equilib-\\nrium constantKPP;3D\\na\\x88\\x89P1P2\\x8aeq\\n\\x89P1\\x8aeq\\x89P2\\x8aeq\\x88\\x89P1P2\\x8aeq\\n\\x85\\x89P1\\x8a0\\x00\\x89P1P2\\x8aeq\\x86\\x85\\x89P2\\x8a0\\x00\\x89P1P2\\x8aeq\\x86,where total concentrations ofthe\\nproteins are[P1]0=[P1P2]+[P1]and same for[P2]0.Ifthese proteins canalso reversibly bind\\ntomembranes viatargeting aspecific lipidM,and continue tobind oneanother, their binding\\nequilibrium willshift asatotal ofnine distinct species canform (Fig 1,Methods). The bound\\nprotein-protein complexes caneither beinsolution oronthemembrane, [P1P2]sol+mem=\\n[P1P2]sol+[P1P2]mem=[P1P2]+[P 1P2M]+[MP 1P2][MP 1P2M],and unbound species aresimi-\\nlarly defined [P1]sol+[P1]mem=[P1]+[MP 1],and [P2]sol+[P2]mem=[P2]+[P 2M],whereMindi-\\ncates acopy ofatarget membrane lipid bound toP1orP2.The model thus assumes each\\nprotein binds membrane viatargeting asingle copy ofaspecific lipid type. Proteins onthe\\nmembrane must beable todiffuse tobind oneanother, which isconsistent with experimental\\nobservations [23] even ofRNA-protein complexes (>6000kDa) that areanchored viamultiple\\nlipid binding sites along with myristoyl groups [24]. Each ofthenine distinct species willbe\\nconstrained topreserve detailed balance atequilibrium, asdefined bythe10pairwise binding\\ninteractions ofFig1(see Methods), and thetotal concentrations ofproteins isfixed atthe\\nsame values asabove, butnow [P1]0=[P1P2]sol+mem+[P 1]sol+mem,and thesame for[P2]0.Simi-\\nlarly, [M] 0=[M]+[MP 1]+[P 2M]+[P 1P2M]+[MP 1P2]+2[MP 1P2M].Wenote that species onthe\\nmembrane have concentrations normally ofμm-2,matching theunits ofequilibrium constants\\nin2D(Ka2D)-1.Allspecies copy numbers, whether onoroffthemembrane, however, canbe\\nsolved forinvolume units when theappropriate Solution volume/Membrane surface Area (V/\\nA)conversion factor scales the2Dbinding constants, sowealways report volume units for\\nconcentrations. Toquantify thechange inbound protein-protein complexes asafunction of\\nMembrane localizatio ncantrigger protein assembly', metadata={'source': '/Users/jonathanfischer/Desktop/AI_CodingFun/LangChainQueryTexts/ThesisPapers/Osman.pdf', 'page': 3}),\n",
       "  Document(page_content='RESULTS Membrane-localization oscillator was designed for experimental feasibility 2D enhancement can be modeled as dimensionless scaling of forward rate constants  \\n Figure 1: Schematic diagram of the model reactions and species. The model consists of five initial species: a lipid-modifying kinase (K), a lipid-modifying phosphatase (P), an adaptor protein (A), and two lipid species (PIP and PIP2). The lipid species are either bound to the membrane (M) or free in the cytosol ©. The adaptor protein binds to PIP2 on the membrane and recruits the kinase and the phosphatase. The kinase converts PIP to PIP2, while the phosphatase converts PIP2 to PIP. The membrane localization of the species depends on the ratio of PIP2 to PIP, which is controlled by the volume to surface area ratio (V/A) of the cell. The model exhibits oscillatory behavior due to the positive and negative feedback loops between the lipid composition and the enzymatic activity.  Our model primarily consists of a set of 12 coupled ordinary differential equations (ODEs). In order to more rigorously test the oscillatory potential of the model, we initially make no Michaelis-Menten nor quasi-steady state approximations and leave the 12 dimensional system in its expanded form. Within this system, the rates of some species are the sum of both the 3D-2D reaction kinetics (kon * X * Y) as well as the same reaction with 2D-2D kinetics (Df * kon * X * Y), where the dimensional scaling factor Df = V/Ah. This factor weights the feedback strength for both the positive and negative feedback loops, where a higher Df translates to a larger rate enhancement for membrane-localized reactions.  Parameters limited to experimentally realizable ranges As our goal is to accurately model a synthetic yet still biologically constrained system, our downstream analysis only considers binding and catalytic rates appropriate to our species. The affinity of AP2 for PIP2', metadata={'source': '/Users/jonathanfischer/Desktop/AI_CodingFun/LangChainQueryTexts/ThesisPapers/MyDraft1.pdf', 'page': 5}),\n",
       "  Document(page_content=\"novel and valuable metric forinterpreting how important membrane localization canbegiven\\ntheconcentrations and binding properties ofcomponent proteins, and itisolates therole of\\nmembrane localization from other factors. Since even mostinvitro experiments contain more\\ncomponents and complexity than iscaptured inoursimple model, wediscuss how itcanstill\\nbeused asaquantitative guide forestimating how membrane heterogeneity, competition for\\nbinding, and mutations would influence theparameters ofthemodel (volume, surface area,\\nbinding affinities and concentrations) and thus theproteins' subsequent response tolocaliza-\\ntion. Wespecifically address inourresults how lipids such asPI(4,5)P 2canbetargeted by\\nmany proteins atanytime [14, 15], how some membrane binding domains such asBAR\\ndomains bind membranes with widely varying lipid composition and inacurvature dependent\\nmanner [16, 17], and how mutations and multiple protein binding partners would alter pro-\\ntein complex formation. Despite thelimitations ofapplying anequilibrium theory tounder-\\nstand complexation that ultimately occurs inthenonequilibrium cell, webelieve thetheory\\nrepresents awell-defined starting point from which toprobe more complex systems, justas\\nusinginvitro studies provide auseful guide forinterpreting behavior inthecell. Itisalso aref-\\nerence point forstudying thetime-dependence ofassembly through computer simulation, as\\nwedohere, and astarting point from which tobuild further complexity into themodel.\\nFig1.Quantifyin ghow protein binding partners insolution can increase complex formation bybinding tolipids onmembrane surfaces. This model contains two\\ntypes ofproteins (P1and P2)and onetype oflipid (M). Weshow alltenpossible bindin ginteractions that canoccur between thispair ofproteins that bind each other\\n(P1+P2\\x84P 1P2)and also bind specific lipids (M), producing asystem ofnine total distinct species: P1,P2,M,P1P2,MP 1,P2M,MP 1P2,P1P2M,and MP 1P2M.a)Solution\\n(3D) binding. b)Interactio nsinsolution (3D) that pull proteins tothemembran esurface through protein orlipid binding. In(c-e) thebinding interacti onsarein2D\\n(species concentrat ioninArea-1)and canexploit thelower search space. Conversio nfrom 3Dto2Dequilibriu mconstant isdefined bythevariableσ,where onlyσ=σPP\\nappears inEq3.Tosolve forallspecies inconsistent units (i.e.Volume-1),Ka2Dvalues must bemultiplie dbyV/A. The sizeofsolution volume Vvs.membrane surface\\narea Aisthus acritical parameter controlling binding enhanceme nt.The membran esurface canbetheplasma membran e,forexample, butalso liposome ssuspended in\\nsolution. d,e) Proteins localized atthesurface willalso bind lipids ina2Dsearch. There areover 100functionally diverse peripheral membrane proteins inyeast alone\\n[14] whose binding interactions with oneanother could strengthen substa ntially viabinding tomembranes. Wesimulated thismodel foracompreh ensive range of\\nconditions using mainly systems ofordinary different ialequations (ODE), butalso single-part iclereaction-di ffusion (RD) simulations [19, 20](Methods) .\\nhttps://do i.org/10.1371/j ournal.pc bi.1006031. g001\\nMembrane localizatio ncantrigger protein assembly\\nPLOS Computationa lBiology |https:/ /doi.org/10.13 71/journal.p cbi.1006031 March 5,2018 3/28\", metadata={'source': '/Users/jonathanfischer/Desktop/AI_CodingFun/LangChainQueryTexts/ThesisPapers/Osman.pdf', 'page': 2})]}"
      ]
     },
     "execution_count": 19,
     "metadata": {},
     "output_type": "execute_result"
    }
   ],
   "source": [
    "result"
   ]
  },
  {
   "cell_type": "code",
   "execution_count": 18,
   "metadata": {},
   "outputs": [],
   "source": [
    "from langchain.chains import ConversationalRetrievalChain\n",
    "from langchain.memory import ConversationBufferMemory"
   ]
  },
  {
   "cell_type": "code",
   "execution_count": 19,
   "metadata": {},
   "outputs": [],
   "source": [
    "memory=ConversationBufferMemory()"
   ]
  },
  {
   "cell_type": "code",
   "execution_count": 20,
   "metadata": {},
   "outputs": [],
   "source": [
    "convo_qa = ConversationalRetrievalChain.from_llm(chat, doc_retriever,verbose=True, memory=memory)"
   ]
  },
  {
   "cell_type": "code",
   "execution_count": 23,
   "metadata": {},
   "outputs": [
    {
     "ename": "ValueError",
     "evalue": "Missing some input keys: {'chat_history', 'question'}",
     "output_type": "error",
     "traceback": [
      "\u001b[0;31m---------------------------------------------------------------------------\u001b[0m",
      "\u001b[0;31mValueError\u001b[0m                                Traceback (most recent call last)",
      "Cell \u001b[0;32mIn[23], line 1\u001b[0m\n\u001b[0;32m----> 1\u001b[0m convo_qa\u001b[39m.\u001b[39mrun(\u001b[39minput\u001b[39m\u001b[39m=\u001b[39mquery)\n",
      "File \u001b[0;32m~/miniforge3/envs/ai2/lib/python3.11/site-packages/langchain/chains/base.py:239\u001b[0m, in \u001b[0;36mChain.run\u001b[0;34m(self, callbacks, *args, **kwargs)\u001b[0m\n\u001b[1;32m    236\u001b[0m     \u001b[39mreturn\u001b[39;00m \u001b[39mself\u001b[39m(args[\u001b[39m0\u001b[39m], callbacks\u001b[39m=\u001b[39mcallbacks)[\u001b[39mself\u001b[39m\u001b[39m.\u001b[39moutput_keys[\u001b[39m0\u001b[39m]]\n\u001b[1;32m    238\u001b[0m \u001b[39mif\u001b[39;00m kwargs \u001b[39mand\u001b[39;00m \u001b[39mnot\u001b[39;00m args:\n\u001b[0;32m--> 239\u001b[0m     \u001b[39mreturn\u001b[39;00m \u001b[39mself\u001b[39m(kwargs, callbacks\u001b[39m=\u001b[39mcallbacks)[\u001b[39mself\u001b[39m\u001b[39m.\u001b[39moutput_keys[\u001b[39m0\u001b[39m]]\n\u001b[1;32m    241\u001b[0m \u001b[39mraise\u001b[39;00m \u001b[39mValueError\u001b[39;00m(\n\u001b[1;32m    242\u001b[0m     \u001b[39mf\u001b[39m\u001b[39m\"\u001b[39m\u001b[39m`run` supported with either positional arguments or keyword arguments\u001b[39m\u001b[39m\"\u001b[39m\n\u001b[1;32m    243\u001b[0m     \u001b[39mf\u001b[39m\u001b[39m\"\u001b[39m\u001b[39m but not both. Got args: \u001b[39m\u001b[39m{\u001b[39;00margs\u001b[39m}\u001b[39;00m\u001b[39m and kwargs: \u001b[39m\u001b[39m{\u001b[39;00mkwargs\u001b[39m}\u001b[39;00m\u001b[39m.\u001b[39m\u001b[39m\"\u001b[39m\n\u001b[1;32m    244\u001b[0m )\n",
      "File \u001b[0;32m~/miniforge3/envs/ai2/lib/python3.11/site-packages/langchain/chains/base.py:123\u001b[0m, in \u001b[0;36mChain.__call__\u001b[0;34m(self, inputs, return_only_outputs, callbacks)\u001b[0m\n\u001b[1;32m    106\u001b[0m \u001b[39mdef\u001b[39;00m \u001b[39m__call__\u001b[39m(\n\u001b[1;32m    107\u001b[0m     \u001b[39mself\u001b[39m,\n\u001b[1;32m    108\u001b[0m     inputs: Union[Dict[\u001b[39mstr\u001b[39m, Any], Any],\n\u001b[1;32m    109\u001b[0m     return_only_outputs: \u001b[39mbool\u001b[39m \u001b[39m=\u001b[39m \u001b[39mFalse\u001b[39;00m,\n\u001b[1;32m    110\u001b[0m     callbacks: Callbacks \u001b[39m=\u001b[39m \u001b[39mNone\u001b[39;00m,\n\u001b[1;32m    111\u001b[0m ) \u001b[39m-\u001b[39m\u001b[39m>\u001b[39m Dict[\u001b[39mstr\u001b[39m, Any]:\n\u001b[1;32m    112\u001b[0m     \u001b[39m\"\"\"Run the logic of this chain and add to output if desired.\u001b[39;00m\n\u001b[1;32m    113\u001b[0m \n\u001b[1;32m    114\u001b[0m \u001b[39m    Args:\u001b[39;00m\n\u001b[0;32m   (...)\u001b[0m\n\u001b[1;32m    121\u001b[0m \n\u001b[1;32m    122\u001b[0m \u001b[39m    \"\"\"\u001b[39;00m\n\u001b[0;32m--> 123\u001b[0m     inputs \u001b[39m=\u001b[39m \u001b[39mself\u001b[39m\u001b[39m.\u001b[39mprep_inputs(inputs)\n\u001b[1;32m    124\u001b[0m     callback_manager \u001b[39m=\u001b[39m CallbackManager\u001b[39m.\u001b[39mconfigure(\n\u001b[1;32m    125\u001b[0m         callbacks, \u001b[39mself\u001b[39m\u001b[39m.\u001b[39mcallbacks, \u001b[39mself\u001b[39m\u001b[39m.\u001b[39mverbose\n\u001b[1;32m    126\u001b[0m     )\n\u001b[1;32m    127\u001b[0m     new_arg_supported \u001b[39m=\u001b[39m inspect\u001b[39m.\u001b[39msignature(\u001b[39mself\u001b[39m\u001b[39m.\u001b[39m_call)\u001b[39m.\u001b[39mparameters\u001b[39m.\u001b[39mget(\u001b[39m\"\u001b[39m\u001b[39mrun_manager\u001b[39m\u001b[39m\"\u001b[39m)\n",
      "File \u001b[0;32m~/miniforge3/envs/ai2/lib/python3.11/site-packages/langchain/chains/base.py:216\u001b[0m, in \u001b[0;36mChain.prep_inputs\u001b[0;34m(self, inputs)\u001b[0m\n\u001b[1;32m    214\u001b[0m     external_context \u001b[39m=\u001b[39m \u001b[39mself\u001b[39m\u001b[39m.\u001b[39mmemory\u001b[39m.\u001b[39mload_memory_variables(inputs)\n\u001b[1;32m    215\u001b[0m     inputs \u001b[39m=\u001b[39m \u001b[39mdict\u001b[39m(inputs, \u001b[39m*\u001b[39m\u001b[39m*\u001b[39mexternal_context)\n\u001b[0;32m--> 216\u001b[0m \u001b[39mself\u001b[39m\u001b[39m.\u001b[39m_validate_inputs(inputs)\n\u001b[1;32m    217\u001b[0m \u001b[39mreturn\u001b[39;00m inputs\n",
      "File \u001b[0;32m~/miniforge3/envs/ai2/lib/python3.11/site-packages/langchain/chains/base.py:83\u001b[0m, in \u001b[0;36mChain._validate_inputs\u001b[0;34m(self, inputs)\u001b[0m\n\u001b[1;32m     81\u001b[0m missing_keys \u001b[39m=\u001b[39m \u001b[39mset\u001b[39m(\u001b[39mself\u001b[39m\u001b[39m.\u001b[39minput_keys)\u001b[39m.\u001b[39mdifference(inputs)\n\u001b[1;32m     82\u001b[0m \u001b[39mif\u001b[39;00m missing_keys:\n\u001b[0;32m---> 83\u001b[0m     \u001b[39mraise\u001b[39;00m \u001b[39mValueError\u001b[39;00m(\u001b[39mf\u001b[39m\u001b[39m\"\u001b[39m\u001b[39mMissing some input keys: \u001b[39m\u001b[39m{\u001b[39;00mmissing_keys\u001b[39m}\u001b[39;00m\u001b[39m\"\u001b[39m)\n",
      "\u001b[0;31mValueError\u001b[0m: Missing some input keys: {'chat_history', 'question'}"
     ]
    }
   ],
   "source": [
    "convo_qa.run(input=query)"
   ]
  },
  {
   "cell_type": "code",
   "execution_count": null,
   "metadata": {},
   "outputs": [],
   "source": [
    "from langchain import PromptTemplate, LLMChain\n",
    "from langchain.chains.mapreduce import MapReduceChain\n",
    "from langchain.prompts import PromptTemplate"
   ]
  }
 ],
 "metadata": {
  "kernelspec": {
   "display_name": "ai",
   "language": "python",
   "name": "python3"
  },
  "language_info": {
   "codemirror_mode": {
    "name": "ipython",
    "version": 3
   },
   "file_extension": ".py",
   "mimetype": "text/x-python",
   "name": "python",
   "nbconvert_exporter": "python",
   "pygments_lexer": "ipython3",
   "version": "3.11.3"
  },
  "orig_nbformat": 4
 },
 "nbformat": 4,
 "nbformat_minor": 2
}
