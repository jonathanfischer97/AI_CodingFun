{
 "cells": [
  {
   "cell_type": "code",
   "execution_count": 2,
   "metadata": {},
   "outputs": [],
   "source": [
    "import os\n",
    "import openai\n",
    "# import deeplake \n",
    "from dotenv import load_dotenv\n",
    "\n",
    "from langchain.document_loaders import TextLoader\n",
    "from langchain.embeddings.openai import OpenAIEmbeddings\n",
    "from langchain.vectorstores import DeepLake\n",
    "from langchain.text_splitter import CharacterTextSplitter\n",
    "from langchain.document_loaders import PyPDFLoader\n",
    "\n",
    "from langchain.vectorstores import Chroma\n",
    "from langchain.chains import RetrievalQA\n",
    "from langchain.chat_models import ChatOpenAI\n",
    "from langchain.callbacks.streaming_stdout import StreamingStdOutCallbackHandler\n",
    "from langchain.chains import ConversationalRetrievalChain\n",
    "#! memory \n",
    "from langchain.memory import ConversationBufferMemory"
   ]
  },
  {
   "attachments": {},
   "cell_type": "markdown",
   "metadata": {},
   "source": [
    "## Get API keys and script path"
   ]
  },
  {
   "cell_type": "code",
   "execution_count": 3,
   "metadata": {},
   "outputs": [],
   "source": [
    "load_dotenv(os.getcwd()+'/keys.env')\n",
    "activeloop_token = os.getenv('ACTIVELOOP_TOKEN')\n",
    "deeplake_username = os.getenv('DEEPLAKE_USERNAME')\n",
    "openai.api_key = os.environ.get('OPENAI_API_KEY')\n",
    "\n",
    "codepath = '/Users/jonathanfischer/Desktop/PhD_ThesisWork/Julia/OscillatorPaper/FigureGenerationScripts/'"
   ]
  },
  {
   "attachments": {},
   "cell_type": "markdown",
   "metadata": {},
   "source": [
    "## Loader and splitter functions"
   ]
  },
  {
   "cell_type": "code",
   "execution_count": 4,
   "metadata": {},
   "outputs": [],
   "source": [
    "def load_docs(root_dir):\n",
    "    docs = []\n",
    "    for dirpath, dirnames, filenames in os.walk(root_dir):\n",
    "            for file in filenames:\n",
    "                if file.split('.')[-1] not in ['png', 'jpeg']:\n",
    "                    print(file)\n",
    "                    try:\n",
    "                        loader = TextLoader(os.path.join(\n",
    "                            dirpath, file))\n",
    "                        docs.extend(loader.load_and_split())\n",
    "                    except Exception as e:\n",
    "                        print(e)\n",
    "                        pass\n",
    "    return docs\n",
    "\n",
    "\n",
    "def split_docs(docs):\n",
    "    text_splitter = CharacterTextSplitter(chunk_size=1000, chunk_overlap=0)\n",
    "    return text_splitter.split_documents(docs)"
   ]
  },
  {
   "attachments": {},
   "cell_type": "markdown",
   "metadata": {},
   "source": [
    "## Load and split raw code"
   ]
  },
  {
   "cell_type": "code",
   "execution_count": 5,
   "metadata": {},
   "outputs": [
    {
     "name": "stderr",
     "output_type": "stream",
     "text": [
      "Created a chunk of size 1040, which is longer than the specified 1000\n",
      "Created a chunk of size 1302, which is longer than the specified 1000\n",
      "Created a chunk of size 1045, which is longer than the specified 1000\n",
      "Created a chunk of size 1458, which is longer than the specified 1000\n",
      "Created a chunk of size 2973, which is longer than the specified 1000\n"
     ]
    },
    {
     "name": "stdout",
     "output_type": "stream",
     "text": [
      "NERDSS_Tuning.jl\n",
      "TEST_GA.jl\n",
      "PhaseDiagrams.jl\n",
      "TwoParamReachability.jl\n",
      "evotest.jl\n",
      "TESTPlots.jl\n",
      "ReachabilityAnalysis.jl\n",
      "OscillatoryRegions.jl\n"
     ]
    }
   ],
   "source": [
    "rawcode = load_docs(codepath)\n",
    "splitcode = split_docs(rawcode)"
   ]
  },
  {
   "cell_type": "code",
   "execution_count": 6,
   "metadata": {},
   "outputs": [
    {
     "data": {
      "text/plain": [
       "OpenAIEmbeddings(client=<class 'openai.api_resources.embedding.Embedding'>, model='text-embedding-ada-002', deployment='text-embedding-ada-002', openai_api_version=None, openai_api_base=None, openai_api_type=None, openai_proxy=None, embedding_ctx_length=8191, openai_api_key=None, openai_organization=None, allowed_special=set(), disallowed_special='all', chunk_size=1000, max_retries=6, request_timeout=None, headers=None)"
      ]
     },
     "execution_count": 6,
     "metadata": {},
     "output_type": "execute_result"
    }
   ],
   "source": [
    "embeddings = OpenAIEmbeddings()\n",
    "embeddings"
   ]
  },
  {
   "attachments": {},
   "cell_type": "markdown",
   "metadata": {},
   "source": [
    "## Load text into vectorstore"
   ]
  },
  {
   "cell_type": "code",
   "execution_count": 7,
   "metadata": {},
   "outputs": [
    {
     "name": "stderr",
     "output_type": "stream",
     "text": [
      "Using embedded DuckDB without persistence: data will be transient\n"
     ]
    }
   ],
   "source": [
    "code_retriever = Chroma.from_documents(splitcode, embeddings).as_retriever() #initialize vectorstore into retriever"
   ]
  },
  {
   "cell_type": "code",
   "execution_count": 15,
   "metadata": {},
   "outputs": [],
   "source": [
    "chat = ChatOpenAI(model_name=\"gpt-3.5-turbo-16k-0613\", streaming=True, callbacks=[StreamingStdOutCallbackHandler()])"
   ]
  },
  {
   "cell_type": "code",
   "execution_count": 16,
   "metadata": {},
   "outputs": [],
   "source": [
    "memory = ConversationBufferMemory(memory_key=\"chat_history\", return_messages=True)"
   ]
  },
  {
   "cell_type": "code",
   "execution_count": 17,
   "metadata": {},
   "outputs": [],
   "source": [
    "condenser = ChatOpenAI(temperature=0, model='gpt-4-0613')"
   ]
  },
  {
   "cell_type": "code",
   "execution_count": 18,
   "metadata": {},
   "outputs": [],
   "source": [
    "qa = ConversationalRetrievalChain.from_llm(chat,retriever=code_retriever, verbose=True, memory=memory, chain_type=\"map_reduce\", condense_question_llm=condenser)"
   ]
  },
  {
   "cell_type": "code",
   "execution_count": 19,
   "metadata": {},
   "outputs": [],
   "source": [
    "def get_chat_history(inputs) -> str:\n",
    "    res = []\n",
    "    for human, ai in inputs:\n",
    "        res.append(f\"Human:{human}\\nAI:{ai}\")\n",
    "    return \"\\n\".join(res)"
   ]
  },
  {
   "cell_type": "code",
   "execution_count": 20,
   "metadata": {},
   "outputs": [
    {
     "name": "stdout",
     "output_type": "stream",
     "text": [
      "\n",
      "\n",
      "\u001b[1m> Entering new MapReduceDocumentsChain chain...\u001b[0m\n",
      "\n",
      "\n",
      "\u001b[1m> Entering new LLMChain chain...\u001b[0m\n",
      "Prompt after formatting:\n",
      "\u001b[32;1m\u001b[1;3mSystem: Use the following portion of a long document to see if any of the text is relevant to answer the question. \n",
      "Return any relevant text verbatim.\n",
      "______________________\n",
      "fitness_function = make_fitness_function(eval_ic_fitness, fullprob) # Create a fitness function that includes your ODE problem as a constant\n",
      "\n",
      "# using Debugger\n",
      "#! Optimization block\n",
      "function testGAfunc(evalfunc, fitness_function_factory, prob)\n",
      "    population_size = 1000\n",
      "    pop = generate_population(ic_values, population_size)\n",
      "\n",
      "    myconstraints = BoxConstraints([ic_values[p][\"min\"] for p in keys(ic_values)], [ic_values[p][\"max\"] for p in keys(ic_values)])\n",
      "    opts = Evolutionary.Options(abstol=1e-2, reltol=1.00, successive_f_tol = 5, iterations=5, store_trace = true, \n",
      "            show_trace=true, show_every=1, parallelization=:thread)\n",
      "    common_range = 0.5; valrange = fill(common_range, length(ic_values))\n",
      "    mthd = GA(populationSize = population_size, selection = tournament(Int(population_size/10)),\n",
      "            crossover = TPX, crossoverRate = 0.5,\n",
      "            mutation  = BGA(valrange, 2), mutationRate = 0.7)\n",
      "Human: Improve one of the functions\u001b[0m\n",
      "Prompt after formatting:\n",
      "\u001b[32;1m\u001b[1;3mSystem: Use the following portion of a long document to see if any of the text is relevant to answer the question. \n",
      "Return any relevant text verbatim.\n",
      "______________________\n",
      "# Progress Bar\n",
      "    progress = ProgressThresh(opts.abstol, \"Converging: \")\n",
      "\n",
      "    # Optimization\n",
      "    result = Evolutionary.optimize(fitness_function, myconstraints, mthd, pop, opts)\n",
      "\n",
      "    # Get the individual, fitness, and extradata of the population\n",
      "    record = reduce(vcat,[gen.metadata[\"staterecord\"] for gen in result.trace])\n",
      "\n",
      "    # Filter out individuals with fitness values less than 0.1\n",
      "    # fitpops = filter(x -> x.fit < -0.1, record)\n",
      "\n",
      "    # # Get the best solution\n",
      "    # newp = result.minimizer\n",
      "    # newsol = solve(remake(fullprob, u0=[newp,zeros(11)]))\n",
      "\n",
      "\n",
      "    # #plot the results\n",
      "    # plot(newsol, xlabel=\"Time (s)\", ylabel=\"Concentration (mM)\", title=\"Optimized Model\")\n",
      "end\n",
      "\n",
      "testGAfunc(eval_ic_fitness, fitness_function, fullprob)\n",
      "\n",
      "\n",
      "ic_constraints = define_initialcondition_constraints()\n",
      "\n",
      "ga_problem = GAProblem(ic_constraints, fullprob)\n",
      "\n",
      "run_GA(ga_problem; population_size=10000, iterations = 5)\n",
      "Human: Improve one of the functions\u001b[0m\n",
      "Prompt after formatting:\n",
      "\u001b[32;1m\u001b[1;3mSystem: Use the following portion of a long document to see if any of the text is relevant to answer the question. \n",
      "Return any relevant text verbatim.\n",
      "______________________\n",
      "# import the cost function and other evaluation functions\n",
      "    include(\"../../UTILITIES/EvaluationFunctions.jl\")\n",
      "\n",
      "    # import the genetic algorithm and associated functions\n",
      "    include(\"../../UTILITIES/GA_functions.jl\")\n",
      "\n",
      "    include(\"../../UTILITIES/ODEProbMaker.jl\")\n",
      "\n",
      "    const SHOW_PROGRESS_BARS = parse(Bool, get(ENV, \"PROGRESS_BARS\", \"true\"))\n",
      "end\n",
      "\n",
      "\n",
      "param_constraints = define_parameter_constraints()\n",
      "\n",
      "# ic_constraints = define_initialcondition_constraints()\n",
      "\n",
      "\n",
      "testprob = make_ODEProb()\n",
      "\n",
      "paramgaproblem = GAProblem(param_constraints, testprob)\n",
      "\n",
      "# testsol = solve(testprob, saveat = 0.1)\n",
      "# plot(testsol)\n",
      "\n",
      "testrun = run_GA(paramgaproblem; population_size = 5000)\n",
      "\n",
      "# plotsol(row) = plotsol(row, testrun, testprob; vars = [1])\n",
      "\n",
      "# plotsol(1)\n",
      "\n",
      "\n",
      "# testsol = solve(testprob, saveat = 0.1)[1,:]\n",
      "# plot(testsol)\n",
      "\n",
      "# argmaxima(testsol, 10)\n",
      "\n",
      "\n",
      "extract_solution(row) = extract_solution(row, testrun, testprob; vars = [1])\n",
      "\n",
      "dfsol = extract_solution(6);\n",
      "plot(dfsol)\n",
      "\n",
      "findmaxima(dfsol[1,:], 1)\n",
      "Human: Improve one of the functions\u001b[0m\n",
      "Prompt after formatting:\n",
      "\u001b[32;1m\u001b[1;3mSystem: Use the following portion of a long document to see if any of the text is relevant to answer the question. \n",
      "Return any relevant text verbatim.\n",
      "______________________\n",
      "ogprob = make_ODEProb(fastp, ogu; tspan = (0., 100.))\n",
      "ogsol = solve(ogprob, Rosenbrock23(), save_idxs = 1)\n",
      "getPerAmp(ogsol)\n",
      "plot(ogsol)\n",
      "\n",
      "\n",
      "#! run GA to get low copy number oscillations for NERDSS\n",
      "ic_constraints = define_initialcondition_constraints(lipidrange = (0.1,1.5), kinaserange = (0.01,1.5), phosphataserange = (0.01,1.5), ap2range = (0.01,1.5))\n",
      "param_constraints = define_parameter_constraints(karange = (1e-3, 1e2), kbrange = (1e-3, 1e3), kcatrange = (1e-2, 1e3), dfrange = (1e3, 2e4))\n",
      "\n",
      "ic_gaproblem = GAProblem(ic_constraints,ogprob)\n",
      "param_gaproblem = GAProblem(param_constraints,ogprob)\n",
      "\n",
      "nerdss_record = run_GA(ic_gaproblem)\n",
      "\n",
      "\n",
      "extract_solution(row) = extract_solution(row, nerdss_record, ogprob; vars = [1], tspan = (0., 100.))\n",
      "plotsol(row) = plotsol(row, nerdss_record, ogprob; vars = [1])\n",
      "\n",
      "plotsol(6)\n",
      "\n",
      "\n",
      "function calc_concentration_ratio(dfrow::DataFrameRow)\n",
      "    ratio = dfrow.ind[1]/sum(dfrow.ind[2:end-1])\n",
      "    return round(ratio,digits = 3)\n",
      "end\n",
      "Human: Improve one of the functions\u001b[0m\n",
      "Which function would you like me to improve? Please provide the name or specify the function in more detail.To improve one of the functions, you can make changes to the code within that function. Here are a few suggestions:\n",
      "\n",
      "1. Optimize the fitness function:\n",
      "   - Review the code within the `fitness_function` function and look for areas that can be optimized or simplified.\n",
      "   - Consider using more efficient algorithms or data structures to improve performance.\n",
      "   - Look for any unnecessary calculations or redundant code that can be removed.\n",
      "\n",
      "2. Enhance the Evolutionary.optimize function:\n",
      "   - Check if there are any parameters or options in the `Evolutionary.optimize` function that can be adjusted to improve the optimization process.\n",
      "   - Experiment with different optimization algorithms or methods (`mthd`) to see if they provide better results.\n",
      "   - Consider increasing the population size (`pop`) or adjusting the convergence threshold (`opts.abstol`) to potentially find better solutions.\n",
      "\n",
      "3. Refine the initial condition constraints:\n",
      "   - Review the code within the `define_initialcondition_constraints` function and ensure that the constraints accurately represent the problem domain.\n",
      "   - Consider adding additional constraints or modifying existing ones to make the optimization more specific to your needs.\n",
      "   - Check if there are any constraints that can be relaxed or loosened to allow for a wider range of solutions.\n",
      "\n",
      "4. Modify the GAProblem:\n",
      "   - Look for any parameters or options in the `GAProblem` constructor that can be adjusted to improve the genetic algorithm's performance.\n",
      "   - Experiment with different population sizes (`population_size`) and iteration numbers (`iterations`) to see if they yield better results.\n",
      "   - Consider adding additional constraints or modifying the mutation rate or crossover probability to fine-tune the algorithm.\n",
      "\n",
      "By making these improvements, you can enhance the functionality and performance of the chosen function. Remember to test your changes thoroughly to ensure they produce the desired results.Which function would you like to improve? Could you please provide the name or specify the function's purpose?Which function would you like me to improve?\n",
      "\u001b[1m> Finished chain.\u001b[0m\n",
      "\n",
      "\n",
      "\u001b[1m> Entering new StuffDocumentsChain chain...\u001b[0m\n",
      "\n",
      "\n",
      "\u001b[1m> Entering new LLMChain chain...\u001b[0m\n",
      "Prompt after formatting:\n",
      "\u001b[32;1m\u001b[1;3mSystem: Given the following extracted parts of a long document and a question, create a final answer. \n",
      "If you don't know the answer, just say that you don't know. Don't try to make up an answer.\n",
      "______________________\n",
      "Which function would you like me to improve? Please provide the name or specify the function in more detail.\n",
      "\n",
      "To improve one of the functions, you can make changes to the code within that function. Here are a few suggestions:\n",
      "\n",
      "1. Optimize the fitness function:\n",
      "   - Review the code within the `fitness_function` function and look for areas that can be optimized or simplified.\n",
      "   - Consider using more efficient algorithms or data structures to improve performance.\n",
      "   - Look for any unnecessary calculations or redundant code that can be removed.\n",
      "\n",
      "2. Enhance the Evolutionary.optimize function:\n",
      "   - Check if there are any parameters or options in the `Evolutionary.optimize` function that can be adjusted to improve the optimization process.\n",
      "   - Experiment with different optimization algorithms or methods (`mthd`) to see if they provide better results.\n",
      "   - Consider increasing the population size (`pop`) or adjusting the convergence threshold (`opts.abstol`) to potentially find better solutions.\n",
      "\n",
      "3. Refine the initial condition constraints:\n",
      "   - Review the code within the `define_initialcondition_constraints` function and ensure that the constraints accurately represent the problem domain.\n",
      "   - Consider adding additional constraints or modifying existing ones to make the optimization more specific to your needs.\n",
      "   - Check if there are any constraints that can be relaxed or loosened to allow for a wider range of solutions.\n",
      "\n",
      "4. Modify the GAProblem:\n",
      "   - Look for any parameters or options in the `GAProblem` constructor that can be adjusted to improve the genetic algorithm's performance.\n",
      "   - Experiment with different population sizes (`population_size`) and iteration numbers (`iterations`) to see if they yield better results.\n",
      "   - Consider adding additional constraints or modifying the mutation rate or crossover probability to fine-tune the algorithm.\n",
      "\n",
      "By making these improvements, you can enhance the functionality and performance of the chosen function. Remember to test your changes thoroughly to ensure they produce the desired results.\n",
      "\n",
      "Which function would you like to improve? Could you please provide the name or specify the function's purpose?\n",
      "\n",
      "Which function would you like me to improve?\n",
      "Human: Improve one of the functions\u001b[0m\n",
      "To improve one of the functions, you can consider making changes to the code within that function. Here are a few suggestions for improvement:\n",
      "\n",
      "1. Optimize the fitness function:\n",
      "   - Review the code within the `fitness_function` function and look for areas that can be optimized or simplified.\n",
      "   - Consider using more efficient algorithms or data structures to improve performance.\n",
      "   - Look for any unnecessary calculations or redundant code that can be removed.\n",
      "\n",
      "2. Enhance the Evolutionary.optimize function:\n",
      "   - Check if there are any parameters or options in the `Evolutionary.optimize` function that can be adjusted to improve the optimization process.\n",
      "   - Experiment with different optimization algorithms or methods (`mthd`) to see if they provide better results.\n",
      "   - Consider increasing the population size (`pop`) or adjusting the convergence threshold (`opts.abstol`) to potentially find better solutions.\n",
      "\n",
      "3. Refine the initial condition constraints:\n",
      "   - Review the code within the `define_initialcondition_constraints` function and ensure that the constraints accurately represent the problem domain.\n",
      "   - Consider adding additional constraints or modifying existing ones to make the optimization more specific to your needs.\n",
      "   - Check if there are any constraints that can be relaxed or loosened to allow for a wider range of solutions.\n",
      "\n",
      "4. Modify the GAProblem:\n",
      "   - Look for any parameters or options in the `GAProblem` constructor that can be adjusted to improve the genetic algorithm's performance.\n",
      "   - Experiment with different population sizes (`population_size`) and iteration numbers (`iterations`) to see if they yield better results.\n",
      "   - Consider adding additional constraints or modifying the mutation rate or crossover probability to fine-tune the algorithm.\n",
      "\n",
      "By implementing these improvements, you can enhance the functionality and performance of the chosen function. It is important to thoroughly test your changes to ensure they produce the desired results.\n",
      "\u001b[1m> Finished chain.\u001b[0m\n",
      "\n",
      "\u001b[1m> Finished chain.\u001b[0m\n",
      "\n",
      "\u001b[1m> Finished chain.\u001b[0m\n"
     ]
    }
   ],
   "source": [
    "query = \"Improve one of the functions\"\n",
    "result = qa({\"question\": query, \"chat_history\": get_chat_history})"
   ]
  },
  {
   "cell_type": "code",
   "execution_count": null,
   "metadata": {},
   "outputs": [],
   "source": []
  }
 ],
 "metadata": {
  "kernelspec": {
   "display_name": "ai2",
   "language": "python",
   "name": "python3"
  },
  "language_info": {
   "codemirror_mode": {
    "name": "ipython",
    "version": 3
   },
   "file_extension": ".py",
   "mimetype": "text/x-python",
   "name": "python",
   "nbconvert_exporter": "python",
   "pygments_lexer": "ipython3",
   "version": "3.11.3"
  },
  "orig_nbformat": 4
 },
 "nbformat": 4,
 "nbformat_minor": 2
}
