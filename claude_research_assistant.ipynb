{
 "cells": [
  {
   "cell_type": "code",
   "execution_count": 1,
   "metadata": {},
   "outputs": [],
   "source": [
    "import os\n",
    "from anthropic import Anthropic\n",
    "import base64"
   ]
  },
  {
   "cell_type": "markdown",
   "metadata": {},
   "source": [
    "### Initialize API key"
   ]
  },
  {
   "cell_type": "code",
   "execution_count": 4,
   "metadata": {},
   "outputs": [],
   "source": [
    "api_key = os.environ.get(\"ANTHROPIC_API_KEY\")\n",
    "if not api_key:\n",
    "    raise ValueError(\"ANTHROPIC_API_KEY environment variable is not set\")"
   ]
  },
  {
   "cell_type": "markdown",
   "metadata": {},
   "source": [
    "### Encode PDF"
   ]
  },
  {
   "cell_type": "code",
   "execution_count": 5,
   "metadata": {},
   "outputs": [
    {
     "name": "stdout",
     "output_type": "stream",
     "text": [
      "PDF size: 2.8MB\n"
     ]
    }
   ],
   "source": [
    "pdf_path = 'OscillatorPaperAugust2024.pdf'\n",
    "file_size = os.path.getsize(pdf_path) / (1024 * 1024)  # Convert to MB\n",
    "print(f\"PDF size: {file_size:.1f}MB\")\n",
    "\n",
    "if file_size > 32:\n",
    "    raise ValueError(f\"PDF size ({file_size:.1f}MB) exceeds 32MB limit\")\n",
    "\n",
    "# Helper function to encode PDF\n",
    "def encode_pdf(pdf_path):\n",
    "    with open(pdf_path, 'rb') as pdf_file:\n",
    "        return base64.b64encode(pdf_file.read()).decode('utf-8')\n",
    "\n",
    "pdf_data = encode_pdf(pdf_path)"
   ]
  },
  {
   "cell_type": "markdown",
   "metadata": {},
   "source": [
    "### Initialize client"
   ]
  },
  {
   "cell_type": "code",
   "execution_count": 14,
   "metadata": {},
   "outputs": [],
   "source": [
    "# Initialize client with beta headers for PDF support\n",
    "client = Anthropic(\n",
    "    api_key=api_key,\n",
    "    default_headers={\n",
    "        \"anthropic-beta\": \"pdfs-2024-09-25, prompt-caching-2024-07-31\"\n",
    "    }\n",
    ")"
   ]
  },
  {
   "cell_type": "markdown",
   "metadata": {},
   "source": [
    "### Create message"
   ]
  },
  {
   "cell_type": "code",
   "execution_count": 15,
   "metadata": {},
   "outputs": [],
   "source": [
    "# Create message with document first (best practice from docs)\n",
    "message = client.beta.messages.create(\n",
    "    model=\"claude-3-5-sonnet-20241022\",\n",
    "    max_tokens=4096,\n",
    "    temperature=0,\n",
    "    messages=[\n",
    "        {\n",
    "            \"role\": \"user\", \n",
    "            \"content\": [\n",
    "                # Place PDF before text (best practice)\n",
    "                {\n",
    "                    \"type\": \"document\",\n",
    "                    \"source\": {\n",
    "                        \"type\": \"base64\",\n",
    "                        \"media_type\": \"application/pdf\",\n",
    "                        \"data\": pdf_data,\n",
    "                    },\n",
    "                    \"cache_control\": {\n",
    "                        \"type\": \"ephemeral\"\n",
    "                    }\n",
    "                },\n",
    "                {\n",
    "                    \"type\": \"text\", \n",
    "                    \"text\": \"\"\"As a research assistant, please analyze this manuscript draft. Provide:\n",
    "\n",
    "1. A summary of the main findings and arguments\n",
    "2. Analysis of any charts, figures, or tables\n",
    "3. Specific suggestions for improving clarity and structure\n",
    "4. Detailed line-by-line edits for grammar and style\n",
    "5. Identification of gaps in methodology or literature\n",
    "\n",
    "Please reference specific page numbers using the PDF viewer numbers.\"\"\"\n",
    "                },\n",
    "            ],\n",
    "        },\n",
    "    ]\n",
    ")"
   ]
  },
  {
   "cell_type": "code",
   "execution_count": 17,
   "metadata": {},
   "outputs": [
    {
     "name": "stdout",
     "output_type": "stream",
     "text": [
      "Here's my analysis of the manuscript:\n",
      "\n",
      "Main Findings and Arguments:\n",
      "1. The paper presents a mathematical model of a biochemical oscillator that relies on membrane localization of lipid-modifying enzymes to produce periodic behavior\n",
      "2. Key findings include:\n",
      "- Oscillations require dimensional reduction (DF>1) to amplify reaction rates on the membrane\n",
      "- The system needs both kinase and phosphatase pathways to exploit dimensional reduction\n",
      "- The oscillation period can be tuned by adjusting the volume to surface area ratio\n",
      "- The model shows robustness to initial conditions and parameter variations\n",
      "\n",
      "Analysis of Figures:\n",
      "- Figure 1 (p.6): Shows the reaction network schematic and example oscillatory dynamics\n",
      "- Multiple figures showing parameter sweeps and phase plots demonstrate how dimensional reduction factor (DF) affects oscillatory behavior\n",
      "- The NERDSS simulation figures (p.61-62) validate the model predictions in spatially-resolved conditions\n",
      "\n",
      "Suggestions for Improving Clarity/Structure:\n",
      "1. The introduction needs better organization - suggest starting with broader context about biological oscillators before narrowing to membrane systems\n",
      "2. The Methods section (starting p.9) is very technical and could benefit from an overview paragraph explaining the key approaches\n",
      "3. The Results section would be clearer if organized around the key claims rather than technical details\n",
      "4. The Discussion (p.63) could better highlight the broader implications and limitations\n",
      "\n",
      "Grammar/Style Edits:\n",
      "- Many equations have formatting issues with subscripts and superscripts\n",
      "- Inconsistent use of terminology (e.g., \"membrane oscillations\" vs \"oscillatory dynamics\")\n",
      "- Several run-on sentences in the Methods section need to be broken up\n",
      "- Technical terms should be defined on first use\n",
      "\n",
      "Gaps to Address:\n",
      "1. Limited discussion of alternative models or approaches\n",
      "2. No clear explanation of why this specific reaction network was chosen\n",
      "3. Missing details about parameter selection and sensitivity analysis\n",
      "4. Limited connection to experimental validation possibilities\n",
      "5. No discussion of model limitations or assumptions\n",
      "\n",
      "The manuscript presents interesting findings but needs significant revision for clarity and completeness. The technical content appears sound but the presentation needs improvement to better convey the significance of the work.\n",
      "\n",
      "Would you like me to elaborate on any of these points or provide specific line-by-line edits for certain sections?\n"
     ]
    }
   ],
   "source": [
    "print(message.content[0].text)"
   ]
  },
  {
   "cell_type": "code",
   "execution_count": null,
   "metadata": {},
   "outputs": [],
   "source": []
  }
 ],
 "metadata": {
  "kernelspec": {
   "display_name": "oscpaper",
   "language": "python",
   "name": "python3"
  },
  "language_info": {
   "codemirror_mode": {
    "name": "ipython",
    "version": 3
   },
   "file_extension": ".py",
   "mimetype": "text/x-python",
   "name": "python",
   "nbconvert_exporter": "python",
   "pygments_lexer": "ipython3",
   "version": "3.12.2"
  }
 },
 "nbformat": 4,
 "nbformat_minor": 2
}
